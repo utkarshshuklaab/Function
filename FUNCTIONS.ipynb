{
 "cells": [
  {
   "cell_type": "code",
   "execution_count": null,
   "id": "d569966d-e47b-44c8-9777-0d0771a55124",
   "metadata": {},
   "outputs": [],
   "source": [
    "#What is the difference between a function and a method in python?\n",
    "\n",
    "'''\n",
    "->Python Method\n",
    "\n",
    "1. Method is called by its name, but it is associated to an object (dependent).\n",
    "2. A method definition always includes ‘self’ as its first parameter.\n",
    "3. A method is implicitly passed to the object on which it is invoked.\n",
    "\n",
    "EXAMPLE:-\n",
    "'''"
   ]
  },
  {
   "cell_type": "code",
   "execution_count": 1,
   "id": "5b3a59c1-1802-4fe7-8bbb-19a678a923f8",
   "metadata": {},
   "outputs": [
    {
     "name": "stdout",
     "output_type": "stream",
     "text": [
      "I am in method_abc of ABC class. \n"
     ]
    }
   ],
   "source": [
    "class ABC :\n",
    "\tdef method_abc (self):\n",
    "\t\tprint(\"I am in method_abc of ABC class. \")\n",
    "\n",
    "class_ref = ABC()\n",
    "class_ref.method_abc()\n"
   ]
  },
  {
   "cell_type": "code",
   "execution_count": null,
   "id": "e7148f04-21f0-423c-99b0-80f5dde35f75",
   "metadata": {},
   "outputs": [],
   "source": [
    "'''Functions\n",
    "\n",
    "1. Function is block of code that is also called by its name. (independent)\n",
    "2. The function can have different parameters or may not have any at all. If any data (parameters) are passed, they are passed explicitly.\n",
    "3. Function does not deal with Class and its instance concept.\n",
    "\n",
    "EXAMPLE:-'''"
   ]
  },
  {
   "cell_type": "code",
   "execution_count": 2,
   "id": "4ec87e9f-3f7d-4147-94bd-cbefbbb48a6e",
   "metadata": {},
   "outputs": [
    {
     "name": "stdout",
     "output_type": "stream",
     "text": [
      "-2\n",
      "9\n"
     ]
    }
   ],
   "source": [
    "def Subtract (a, b):\n",
    "\treturn (a-b)\n",
    "\n",
    "print( Subtract(10, 12) ) \n",
    "\n",
    "print( Subtract(15, 6) ) \n"
   ]
  },
  {
   "cell_type": "code",
   "execution_count": null,
   "id": "03c75164-202f-4563-b06f-867ec41cc07e",
   "metadata": {},
   "outputs": [],
   "source": [
    "#Explain the concept of function arguments and parameters in python?\n",
    "\n",
    "'''\n",
    "->Parameters\n",
    "\n",
    "A parameter is the variable defined within the parentheses when we declare a function.\n",
    "\n",
    "EXAMPLE:-'''"
   ]
  },
  {
   "cell_type": "code",
   "execution_count": 3,
   "id": "72a3db07-9a99-4d67-ab25-fde32fd0a392",
   "metadata": {},
   "outputs": [
    {
     "name": "stdout",
     "output_type": "stream",
     "text": [
      "3\n"
     ]
    }
   ],
   "source": [
    "def sum(a,b):\n",
    "  print(a+b)\n",
    "  \n",
    "sum(1,2)\n"
   ]
  },
  {
   "cell_type": "code",
   "execution_count": null,
   "id": "b8e813ae-e8bf-43c6-92dd-63cd823b25ca",
   "metadata": {},
   "outputs": [],
   "source": [
    "'''Arguments\n",
    "\n",
    "An argument is a value that is passed to a function when it is called. It might be a variable, value or object passed to a function or method as input\n",
    "\n",
    "EXAMPLE:-\n",
    "'''"
   ]
  },
  {
   "cell_type": "code",
   "execution_count": 4,
   "id": "3b747cb5-4a8f-4a75-a666-e247a7fd705b",
   "metadata": {},
   "outputs": [
    {
     "name": "stdout",
     "output_type": "stream",
     "text": [
      "3\n"
     ]
    }
   ],
   "source": [
    "def sum(a,b):\n",
    "  print(a+b)\n",
    "sum(1,2)\n"
   ]
  },
  {
   "cell_type": "code",
   "execution_count": null,
   "id": "038ad21a-643c-4c92-a6f7-ec0ebc2dd990",
   "metadata": {},
   "outputs": [],
   "source": [
    "#What are the different ways to define and call a function in python?\n",
    "\n",
    "'''\n",
    "->By using the word def keyword followed by the function's name and parentheses () we can define a function. \n",
    "-If the function takes any arguments, they are included inside the parentheses. \n",
    "-The code inside a function must be indented after the colon to indicate it belongs to that function.\n",
    "\n",
    "EXAMPLE:-\n",
    "'''"
   ]
  },
  {
   "cell_type": "code",
   "execution_count": 8,
   "id": "a40f722b-8116-4abe-adcf-a70908f9f67f",
   "metadata": {},
   "outputs": [],
   "source": [
    "def fun():\n",
    "    print(\"Welcome to GFG\")   \n",
    "def greet(name, age): \n",
    "    print(name, age)\n"
   ]
  },
  {
   "cell_type": "code",
   "execution_count": null,
   "id": "51486d3b-4d76-4c28-af33-73c12237b387",
   "metadata": {},
   "outputs": [],
   "source": [
    "'''Calling a Function\n",
    "\n",
    "-To call a function in Python, we definitely type the name of the function observed via parentheses (). \n",
    "-If the function takes any arguments, they may be covered within the parentheses . \n",
    "\n",
    "EXAMPLE\n",
    "'''"
   ]
  },
  {
   "cell_type": "code",
   "execution_count": 12,
   "id": "f5d7017c-2deb-4bd9-8af7-4584e3a3d8ef",
   "metadata": {},
   "outputs": [
    {
     "name": "stdout",
     "output_type": "stream",
     "text": [
      "Welcome to GFG\n",
      "utkarsh 18\n"
     ]
    }
   ],
   "source": [
    "def fun():\n",
    "    print(\"Welcome to GFG\")\n",
    "fun() \n",
    "def greet(name, age): \n",
    "    print(name, age)\n",
    "greet(\"utkarsh\",18)\n"
   ]
  },
  {
   "cell_type": "code",
   "execution_count": null,
   "id": "83a97166-58ec-4ba0-865e-f5a65ec400f7",
   "metadata": {},
   "outputs": [],
   "source": [
    "#What is the purpose of the 'return' statement in python function?\n",
    "\n",
    "'''\n",
    "->A return statement is used to end the execution of the function call and it “returns” the value of the expression following the return keyword to the caller. \n",
    "- The statements after the return statements are not executed. \n",
    "- If the return statement is without any expression, then the special value None is returned. \n",
    "-A return statement is overall used to invoke a function so that the passed statements can be executed.\n",
    "\n",
    "EXAMPLE\n",
    "'''"
   ]
  },
  {
   "cell_type": "code",
   "execution_count": 13,
   "id": "c68409e3-9771-4e1d-bf62-71bc7e3acb11",
   "metadata": {},
   "outputs": [
    {
     "name": "stdout",
     "output_type": "stream",
     "text": [
      "5\n",
      "True\n"
     ]
    }
   ],
   "source": [
    "def add(a, b):\n",
    "    return a + b\n",
    "\n",
    "def is_true(a):\n",
    "    return bool(a)\n",
    "res = add(2, 3)\n",
    "print(res)\n",
    "res = is_true(2<5)\n",
    "print(res)\n"
   ]
  },
  {
   "cell_type": "code",
   "execution_count": null,
   "id": "c8a10c5c-86c7-478a-88c2-f601bb1d2869",
   "metadata": {},
   "outputs": [],
   "source": [
    "'''EXAMPLE - 2'''"
   ]
  },
  {
   "cell_type": "code",
   "execution_count": 14,
   "id": "b2279f81-0b24-4a03-b5a6-6f66d11128fb",
   "metadata": {},
   "outputs": [
    {
     "name": "stdout",
     "output_type": "stream",
     "text": [
      "8\n"
     ]
    }
   ],
   "source": [
    "def add(a, b):\n",
    "    return a + b\n",
    "result = add(3, 5)\n",
    "print(result) "
   ]
  },
  {
   "cell_type": "code",
   "execution_count": null,
   "id": "a882aa41-b4ca-4d33-b821-96bf9e580742",
   "metadata": {},
   "outputs": [],
   "source": [
    "#What are iterators in python and how do they differ from iterables?\n",
    "\n",
    "'''\n",
    "->Iterable\n",
    "\n",
    "-An iterable is any Python object capable of returning its members one at a time, allowing it to be looped over in a for-loop. \n",
    "-Common examples include lists, tuples, dictionaries, and sets. \n",
    "-An iterable must implement the __iter__() method, which returns an iterator.\n",
    "\n",
    "EXAMPLE:-\n",
    "'''"
   ]
  },
  {
   "cell_type": "code",
   "execution_count": 18,
   "id": "f2c3c96b-3e1e-4476-83f8-fa0fb603b408",
   "metadata": {},
   "outputs": [
    {
     "name": "stdout",
     "output_type": "stream",
     "text": [
      "<str_ascii_iterator object at 0x000001D8DFF971F0>\n",
      "G\n",
      "F\n",
      "G\n"
     ]
    }
   ],
   "source": [
    "s=\"GFG\"\n",
    "s=iter(s)\n",
    "print(s)\n",
    "print(next(s))\n",
    "print(next(s))\n",
    "print(next(s))\n"
   ]
  },
  {
   "cell_type": "code",
   "execution_count": null,
   "id": "28045725-c887-48a1-ba23-82d1166e7937",
   "metadata": {},
   "outputs": [],
   "source": [
    "'''Iterator\n",
    "\n",
    "- An iterator is an object that represents a stream of data.\n",
    "- It returns the data one element at a time and keeps track of its current position. \n",
    "- An iterator must implement two methods: __iter__() and __next__(). The __next__() method returns the next item in the sequence and raises a StopIteration exception when no more items are available.\n",
    "\n",
    "EXAAMPLE:-\n",
    "'''"
   ]
  },
  {
   "cell_type": "code",
   "execution_count": 19,
   "id": "eaa26570-a4d4-4d2e-9fff-a40029afe79d",
   "metadata": {},
   "outputs": [
    {
     "name": "stdout",
     "output_type": "stream",
     "text": [
      "Berlin\n",
      "Vienna\n",
      "Zurich\n"
     ]
    }
   ],
   "source": [
    "cities = [\"Berlin\", \"Vienna\", \"Zurich\"]\n",
    "iterator_obj = iter(cities)\n",
    "print(next(iterator_obj))\n",
    "print(next(iterator_obj))\n",
    "print(next(iterator_obj))\n"
   ]
  },
  {
   "cell_type": "code",
   "execution_count": null,
   "id": "6c0352ff-d8a4-42f2-b649-2d4c7ee8a199",
   "metadata": {},
   "outputs": [],
   "source": [
    "#Explain the concept of generators in python and how they are defined.\n",
    "\n",
    "'''\n",
    "->Generator Function in Python\n",
    "\n",
    "- A generator function is a special type of function that returns an iterator object.\n",
    "- Instead of using return to send back a single value, generator functions use yield to produce a series of results over time.\n",
    "- This allows the function to generate values and pause its execution after each yield, maintaining its state between iterations.'''"
   ]
  },
  {
   "cell_type": "code",
   "execution_count": 3,
   "id": "3a6d7750-676c-478e-ab0b-f6f62febd3c8",
   "metadata": {},
   "outputs": [
    {
     "name": "stdout",
     "output_type": "stream",
     "text": [
      "1\n",
      "2\n",
      "3\n",
      "4\n",
      "5\n"
     ]
    }
   ],
   "source": [
    "def fun(max):\n",
    "    cnt = 1\n",
    "    while cnt <= max:\n",
    "        yield cnt\n",
    "        cnt += 1\n",
    "\n",
    "ctr = fun(5)\n",
    "for n in ctr:\n",
    "    print(n)\n"
   ]
  },
  {
   "cell_type": "code",
   "execution_count": null,
   "id": "998b23ed-d116-47b2-89f5-6ea5194823c0",
   "metadata": {},
   "outputs": [],
   "source": []
  },
  {
   "cell_type": "code",
   "execution_count": null,
   "id": "884f49a7-f329-4a47-9aa3-0874009406c8",
   "metadata": {},
   "outputs": [],
   "source": [
    "#What are the advantages of using generators over regular functions?\n",
    "\n",
    "'''\n",
    "Normal functions in Python are used for traditional computation tasks, with execution proceeding from start to finish, typically returning a single result. \n",
    "On the other hand, generator functions employ the `yield` statement to produce values lazily, preserving their state across multiple calls. This allows generators to efficiently handle large datasets or infinite sequences by yielding values one at a time and pausing execution when necessary, making them a valuable tool for memory-efficient and iterative tasks. \n",
    "In this article, we’ll look into Python generator functions and normal function differences i.e. how different are their syntax, how is data handled, and practical applications.\n",
    "\n",
    "->Advantages of using Generators\n",
    "\n",
    "- Without Generators in Python, producing iterables is extremely difficult and lengthy.\n",
    "\n",
    "- Generators easy to implement as they automatically implement __iter__(), __next__() and StopIteration which otherwise, need to be explicitly specified.\n",
    "\n",
    "\n",
    "EXAMPLE:-\n",
    "'''"
   ]
  },
  {
   "cell_type": "code",
   "execution_count": 1,
   "id": "9c45c98d-38ca-4c2b-86d0-4e132ab1acd8",
   "metadata": {},
   "outputs": [
    {
     "data": {
      "text/plain": [
       "[1, 2, 3]"
      ]
     },
     "execution_count": 1,
     "metadata": {},
     "output_type": "execute_result"
    }
   ],
   "source": [
    "def func(a):\n",
    "    yield a\n",
    "a=[1,2,3]\n",
    " \n",
    "b=func(a)\n",
    "next(b)"
   ]
  },
  {
   "cell_type": "code",
   "execution_count": 3,
   "id": "db82f85a-50bd-449c-9b19-d37885e4a2c7",
   "metadata": {},
   "outputs": [
    {
     "data": {
      "text/plain": [
       "[1, 2, 3]"
      ]
     },
     "execution_count": 3,
     "metadata": {},
     "output_type": "execute_result"
    }
   ],
   "source": [
    "'''\n",
    "EXAMPLE-2\n",
    "'''\n",
    "def func(a):\n",
    "    return a\n",
    "a=[1,2,3]\n",
    "func(a)"
   ]
  },
  {
   "cell_type": "code",
   "execution_count": null,
   "id": "7ebd1ae6-46e9-467c-ba48-d88493e86536",
   "metadata": {},
   "outputs": [],
   "source": [
    "#What is a lambda function in python and when is it typically used?\n",
    "\n",
    "'''->Lambda functions in Python are small, anonymous functions defined using the lambda keyword. They can have any number of arguments but only one expression.\n",
    "The expression is evaluated and returned. Lambda functions are often used for short, throwaway functions that are not intended to be reused elsewhere in the code.\n",
    "\n",
    "EXAMPLE:-\n",
    "'''"
   ]
  },
  {
   "cell_type": "code",
   "execution_count": 4,
   "id": "f1bd4651-6c7f-4d03-ad1c-88e7cf33fa45",
   "metadata": {},
   "outputs": [
    {
     "name": "stdout",
     "output_type": "stream",
     "text": [
      "15\n"
     ]
    }
   ],
   "source": [
    "add_ten = lambda x: x + 10\n",
    "print(add_ten(5)) \n"
   ]
  },
  {
   "cell_type": "code",
   "execution_count": null,
   "id": "6d23f564-d570-4eda-8d30-49becb651a01",
   "metadata": {},
   "outputs": [],
   "source": [
    "'''\n",
    "Typical Use Cases:-\n",
    "\n",
    "1. Short-term Use: When you need a small function for a short period, such as within another function or a single line of code.\n",
    "2. Functional Programming: Often used with functions like map(), filter(), and reduce() to apply a function to a sequence of elements.\n",
    "3. Sorting and Key Functions: Used as a key function in sorting algorithms or data structures that require a custom sorting order.\n",
    "\n",
    "EXAMPLE:-\n",
    "'''"
   ]
  },
  {
   "cell_type": "code",
   "execution_count": 5,
   "id": "0f006aa5-d7e0-4d66-a70b-bdf1a74ae204",
   "metadata": {},
   "outputs": [
    {
     "name": "stdout",
     "output_type": "stream",
     "text": [
      "[1, 4, 9, 16]\n"
     ]
    }
   ],
   "source": [
    "#! With map():\n",
    "\n",
    "numbers = [1, 2, 3, 4]\n",
    "squared = list(map(lambda x: x**2, numbers))\n",
    "print(squared)  \n"
   ]
  },
  {
   "cell_type": "code",
   "execution_count": 6,
   "id": "37c362db-da2e-4cc8-a518-d1cca23081cc",
   "metadata": {},
   "outputs": [
    {
     "name": "stdout",
     "output_type": "stream",
     "text": [
      "[2, 4, 6]\n"
     ]
    }
   ],
   "source": [
    "#2 With filter():\n",
    "\n",
    "numbers = [1, 2, 3, 4, 5, 6]\n",
    "even_numbers = list(filter(lambda x: x % 2 == 0, numbers))\n",
    "print(even_numbers)  \n"
   ]
  },
  {
   "cell_type": "code",
   "execution_count": 7,
   "id": "ae378365-7355-4ab9-9668-2da2cd569821",
   "metadata": {},
   "outputs": [
    {
     "name": "stdout",
     "output_type": "stream",
     "text": [
      "[(5, -1), (3, 1), (1, 2)]\n"
     ]
    }
   ],
   "source": [
    "#3 With sorted():\n",
    "\n",
    "points = [(1, 2), (3, 1), (5, -1)]\n",
    "sorted_points = sorted(points, key=lambda point: point[1])\n",
    "print(sorted_points)\n"
   ]
  },
  {
   "cell_type": "code",
   "execution_count": null,
   "id": "6a46706d-a77c-46f6-9202-5d9ff397b30e",
   "metadata": {},
   "outputs": [],
   "source": [
    "#Explain the purpose and usage of the 'map()' function in python.\n",
    "\n",
    "'''\n",
    "->Python map() function\n",
    "\n",
    "The map() function is used to apply a given function to every item of an iterable, such as a list or tuple, and returns a map object (which is an iterator).\n",
    "\n",
    "EXAMPLE:-\n",
    "'''"
   ]
  },
  {
   "cell_type": "code",
   "execution_count": 8,
   "id": "f0a34c5e-f498-40eb-bff0-f8b35a2e590e",
   "metadata": {},
   "outputs": [
    {
     "name": "stdout",
     "output_type": "stream",
     "text": [
      "[1, 2, 3, 4]\n"
     ]
    }
   ],
   "source": [
    "s = ['1', '2', '3', '4']\n",
    "res = map(int, s)\n",
    "print(list(res))"
   ]
  },
  {
   "cell_type": "code",
   "execution_count": null,
   "id": "c90795c9-5f89-4da7-b88d-4344236a39c0",
   "metadata": {},
   "outputs": [],
   "source": [
    "#What is the difference between 'map()' , 'reduce()' ,and 'filter()' functions in python?\n",
    "\n",
    "'''\n",
    "->overview\n",
    "\n",
    "The map(), filter() and reduce() functions bring a bit of functional programming to Python. \n",
    "All three of these are convenience functions that can be replaced with List Comprehensions or loops, but provide a more elegant and short-hand approach to some problems.\n",
    "\n",
    "MAP FUNCTION\n",
    "\n",
    "The map() function iterates through all items in the given iterable and executes the function we passed as an argument on each of them\n",
    "\n",
    "FILTER FUNCTION\n",
    "\n",
    "The map() function iterates through all items in the given iterable and executes the function we passed as an argument on each of them\n",
    "\n",
    "REDUCE FUNCTION\n",
    "\n",
    "reduce() works differently than map() and filter(). It does not return a new list based on the function and iterable we've passed. Instead, it returns a single value.'''"
   ]
  },
  {
   "cell_type": "code",
   "execution_count": 10,
   "id": "3be5de95-eac4-4924-b193-2f0df5c2cf52",
   "metadata": {},
   "outputs": [
    {
     "name": "stdout",
     "output_type": "stream",
     "text": [
      "[True, False, False, True, False]\n"
     ]
    }
   ],
   "source": [
    "#MAP FUNCTION EXAMPLE\n",
    "\n",
    "def starts_with_A(s):\n",
    "    return s[0] == \"A\"\n",
    "\n",
    "fruit = [\"Apple\", \"Banana\", \"Pear\", \"Apricot\", \"Orange\"]\n",
    "map_object = map(starts_with_A, fruit)\n",
    "\n",
    "print(list(map_object))"
   ]
  },
  {
   "cell_type": "code",
   "execution_count": 11,
   "id": "afcc79ed-6b9f-4443-b2dd-b80baddb8c17",
   "metadata": {},
   "outputs": [
    {
     "name": "stdout",
     "output_type": "stream",
     "text": [
      "['Apple', 'Apricot']\n"
     ]
    }
   ],
   "source": [
    "#FILTER FUNCTION EXAMPLE\n",
    "\n",
    "def starts_with_A(s):\n",
    "    return s[0] == \"A\"\n",
    "\n",
    "fruit = [\"Apple\", \"Banana\", \"Pear\", \"Apricot\", \"Orange\"]\n",
    "filter_object = filter(starts_with_A, fruit)\n",
    "\n",
    "print(list(filter_object))"
   ]
  },
  {
   "cell_type": "code",
   "execution_count": 16,
   "id": "d4658b71-0e9b-479b-a69b-357c411bb45c",
   "metadata": {
    "scrolled": true
   },
   "outputs": [
    {
     "name": "stdout",
     "output_type": "stream",
     "text": [
      "Product of list elements: 24\n"
     ]
    }
   ],
   "source": [
    "#REDUCE FUNCTION EXAMPLE\n",
    "\n",
    "import functools\n",
    "numbers = [1, 2, 3, 4]\n",
    "\n",
    "# Use reduce to compute the product of list elements\n",
    "product = functools.reduce(lambda x, y: x * y, numbers)\n",
    "print(\"Product of list elements:\", product)\n"
   ]
  },
  {
   "attachments": {
    "b2078a05-c708-4147-9461-7e49d34b9cb7.jpeg": {
     "image/jpeg": "[encoded data removed]"
    }
   },
   "cell_type": "markdown",
   "id": "ed075592-014f-493c-b99c-d0ed3830d7f3",
   "metadata": {},
   "source": [
    "#Using pen and paper write athe internal mechanism for sum operation using reduce function on this given list[47,11,42,13];\n",
    "![WhatsApp Image 2025-04-22 at 4.23.44 PM.jpeg](attachment:b2078a05-c708-4147-9461-7e49d34b9cb7.jpeg)"
   ]
  },
  {
   "cell_type": "markdown",
   "id": "658ae97a-c0fe-422b-9252-16555708c0ed",
   "metadata": {},
   "source": [
    "\n",
    "#PRACTICAL QUESTIONS:\n"
   ]
  },
  {
   "cell_type": "code",
   "execution_count": null,
   "id": "9de439f6-50db-495c-b3c9-990cf34a5fc1",
   "metadata": {},
   "outputs": [],
   "source": [
    "#Write a python function that takes a list of numbers as input and returns the sum of all even numbers in the list"
   ]
  },
  {
   "cell_type": "code",
   "execution_count": 5,
   "id": "768a2a85-2f4b-4e03-91f2-8a78def50165",
   "metadata": {},
   "outputs": [
    {
     "name": "stdout",
     "output_type": "stream",
     "text": [
      "12\n"
     ]
    }
   ],
   "source": [
    "my_list = [1, 2, 3, 4, 5, 6]\n",
    "result = sum_of_evens(numbers)\n",
    "print(result)\n"
   ]
  },
  {
   "cell_type": "code",
   "execution_count": null,
   "id": "80ea4835-afb5-4adb-874c-917e653a26b4",
   "metadata": {},
   "outputs": [],
   "source": [
    "#Create a python function that accept a string and returns the reverse of that string."
   ]
  },
  {
   "cell_type": "code",
   "execution_count": 7,
   "id": "620a3054-2134-405a-afa6-d093b7eb3e46",
   "metadata": {},
   "outputs": [
    {
     "name": "stdout",
     "output_type": "stream",
     "text": [
      "olleh\n"
     ]
    }
   ],
   "source": [
    "def reverse_string(s):\n",
    "    return s[::-1]\n",
    "\n",
    "# Example usage:\n",
    "input_string = \"hello\"\n",
    "result = reverse_string(input_string)\n",
    "print(result)  # Output will be 'olleh'\n"
   ]
  },
  {
   "cell_type": "code",
   "execution_count": null,
   "id": "4faf0648-5c76-49ff-9d67-eee4c8bbc42d",
   "metadata": {},
   "outputs": [],
   "source": [
    "#Implement a python function that takes a list of integers and returns a new list containing the square of each numbers"
   ]
  },
  {
   "cell_type": "code",
   "execution_count": 8,
   "id": "8e33ed26-dd93-4ba5-a93a-f4c42b3ca9d7",
   "metadata": {},
   "outputs": [
    {
     "name": "stdout",
     "output_type": "stream",
     "text": [
      "[1, 4, 9, 16, 25]\n"
     ]
    }
   ],
   "source": [
    "\n",
    "def square_numbers(numbers):\n",
    "    return [num ** 2 for num in numbers]\n",
    "\n",
    "# Example usage:\n",
    "input_numbers = [1, 2, 3, 4, 5]\n",
    "result = square_numbers(input_numbers)\n",
    "print(result)  # Output will be [1, 4, 9, 16, 25]\n"
   ]
  },
  {
   "cell_type": "code",
   "execution_count": null,
   "id": "8112f10e-511c-4c64-8c04-9f37576d1758",
   "metadata": {},
   "outputs": [],
   "source": [
    "#write a python function that checks if a given numbers in prime or not from 1 to 200"
   ]
  },
  {
   "cell_type": "code",
   "execution_count": 9,
   "id": "64919652-d7a2-4b04-98a0-3dc184388c61",
   "metadata": {},
   "outputs": [
    {
     "name": "stdout",
     "output_type": "stream",
     "text": [
      "2 is prime.\n",
      "3 is prime.\n",
      "5 is prime.\n",
      "7 is prime.\n",
      "11 is prime.\n",
      "13 is prime.\n",
      "17 is prime.\n",
      "19 is prime.\n",
      "23 is prime.\n",
      "29 is prime.\n",
      "31 is prime.\n",
      "37 is prime.\n",
      "41 is prime.\n",
      "43 is prime.\n",
      "47 is prime.\n",
      "53 is prime.\n",
      "59 is prime.\n",
      "61 is prime.\n",
      "67 is prime.\n",
      "71 is prime.\n",
      "73 is prime.\n",
      "79 is prime.\n",
      "83 is prime.\n",
      "89 is prime.\n",
      "97 is prime.\n",
      "101 is prime.\n",
      "103 is prime.\n",
      "107 is prime.\n",
      "109 is prime.\n",
      "113 is prime.\n",
      "127 is prime.\n",
      "131 is prime.\n",
      "137 is prime.\n",
      "139 is prime.\n",
      "149 is prime.\n",
      "151 is prime.\n",
      "157 is prime.\n",
      "163 is prime.\n",
      "167 is prime.\n",
      "173 is prime.\n",
      "179 is prime.\n",
      "181 is prime.\n",
      "191 is prime.\n",
      "193 is prime.\n",
      "197 is prime.\n",
      "199 is prime.\n"
     ]
    }
   ],
   "source": [
    "def is_prime(n):\n",
    "    if n <= 1:\n",
    "        return False\n",
    "    for i in range(2, int(n ** 0.5) + 1):\n",
    "        if n % i == 0:\n",
    "            return False\n",
    "    return True\n",
    "\n",
    "# Example usage:\n",
    "for num in range(1, 201):\n",
    "    if is_prime(num):\n",
    "        print(f\"{num} is prime.\")\n",
    "\n"
   ]
  },
  {
   "cell_type": "code",
   "execution_count": null,
   "id": "1e8bc8ed-b45e-4b59-812c-90829f5ea3fe",
   "metadata": {},
   "outputs": [],
   "source": [
    "#create an iterators class in python that generators the fibonacci sequence up to a specified numbers of terms"
   ]
  },
  {
   "cell_type": "code",
   "execution_count": 10,
   "id": "c90783c5-0ccc-4004-8593-7f130025fe57",
   "metadata": {},
   "outputs": [
    {
     "name": "stdout",
     "output_type": "stream",
     "text": [
      "0\n",
      "1\n",
      "1\n",
      "2\n",
      "3\n",
      "5\n",
      "8\n",
      "13\n",
      "21\n",
      "34\n"
     ]
    }
   ],
   "source": [
    "class FibonacciIterator:\n",
    "    def __init__(self, n):\n",
    "        self.n = n  # Number of terms to generate\n",
    "        self.a, self.b = 0, 1  # First two numbers of the Fibonacci sequence\n",
    "        self.count = 0  # Counter for terms generated\n",
    "\n",
    "    def __iter__(self):\n",
    "        return self\n",
    "\n",
    "    def __next__(self):\n",
    "        if self.count < self.n:\n",
    "            result = self.a\n",
    "            self.a, self.b = self.b, self.a + self.b  # Update for the next Fibonacci number\n",
    "            self.count += 1\n",
    "            return result\n",
    "        else:\n",
    "            raise StopIteration  # Stop when we've generated 'n' terms\n",
    "\n",
    "# Example usage:\n",
    "fib = FibonacciIterator(10)\n",
    "for num in fib:\n",
    "    print(num)\n",
    "\n"
   ]
  },
  {
   "cell_type": "code",
   "execution_count": null,
   "id": "c6647e65-e05e-4540-bc14-43432bf08cc8",
   "metadata": {},
   "outputs": [],
   "source": [
    "#write a generator function in python that yields the powers of 2 up to a given exponents"
   ]
  },
  {
   "cell_type": "code",
   "execution_count": 11,
   "id": "9ef711c9-4ca8-457a-895f-fc1f678bd041",
   "metadata": {},
   "outputs": [
    {
     "name": "stdout",
     "output_type": "stream",
     "text": [
      "1\n",
      "2\n",
      "4\n",
      "8\n",
      "16\n",
      "32\n"
     ]
    }
   ],
   "source": [
    "def powers_of_two(exponent):\n",
    "    for i in range(exponent + 1):\n",
    "        yield 2 ** i\n",
    "\n",
    "# Example usage:\n",
    "for power in powers_of_two(5):\n",
    "    print(power)\n",
    "\n"
   ]
  },
  {
   "cell_type": "code",
   "execution_count": null,
   "id": "80deaa35-55cc-4197-982e-f1e134a556a2",
   "metadata": {},
   "outputs": [],
   "source": [
    "#implement a generator function that reads a file line by line and yields each line as a string"
   ]
  },
  {
   "cell_type": "code",
   "execution_count": 11,
   "id": "afde9bb6-ecd7-4036-8b4e-c8f467f25206",
   "metadata": {},
   "outputs": [
    {
     "name": "stdout",
     "output_type": "stream",
     "text": [
      "Line: This is the first line.\n",
      "Line: This is the second line.\n",
      "Line: And this is the third line.\n"
     ]
    }
   ],
   "source": [
    "def read_file_line_by_line(filepath):\n",
    "  \"\"\"Reads a file line by line and yields each line as a string.\n",
    "\n",
    "  Args:\n",
    "    filepath: The path to the file.\n",
    "\n",
    "  Yields:\n",
    "    str: Each line from the file.\n",
    "  \"\"\"\n",
    "  try:\n",
    "    with open(filepath, 'r') as file:\n",
    "      for line in file:\n",
    "        yield line.rstrip('\\n')  # Remove trailing newline character\n",
    "  except FileNotFoundError:\n",
    "    print(f\"Error: File not found at {filepath}\")\n",
    "\n",
    "# Example usage:\n",
    "if __name__ == \"__main__\":\n",
    "  # Create a sample file\n",
    "  with open(\"sample.txt\", \"w\") as f:\n",
    "    f.write(\"This is the first line.\\n\")\n",
    "    f.write(\"This is the second line.\\n\")\n",
    "    f.write(\"And this is the third line.\\n\")\n",
    "\n",
    "  # Use the generator function to read and print the file\n",
    "  for line in read_file_line_by_line(\"sample.txt\"):\n",
    "    print(f\"Line: {line}\")\n",
    "     "
   ]
  },
  {
   "cell_type": "code",
   "execution_count": null,
   "id": "b38a34fe-ee77-4b52-9d4b-e79214e0d3ce",
   "metadata": {},
   "outputs": [],
   "source": [
    "#Use a lambda function in Python to sort a list of tuples based on the second element of each tuple."
   ]
  },
  {
   "cell_type": "code",
   "execution_count": 12,
   "id": "4b66cb21-46b2-412d-b1a3-6064ead33f15",
   "metadata": {},
   "outputs": [
    {
     "name": "stdout",
     "output_type": "stream",
     "text": [
      "[(5, 0), (4, 1), (2, 2), (1, 3)]\n"
     ]
    }
   ],
   "source": [
    "# Sample list of tuples\n",
    "my_list = [(1, 3), (4, 1), (2, 2), (5, 0)]\n",
    "\n",
    "# Sort using lambda (based on the second element)\n",
    "sorted_list = sorted(my_list, key=lambda x: x[1])\n",
    "\n",
    "print(sorted_list)"
   ]
  },
  {
   "cell_type": "code",
   "execution_count": 13,
   "id": "c0a4c3b5-9168-4583-a817-aeb6e29988e9",
   "metadata": {},
   "outputs": [
    {
     "name": "stdout",
     "output_type": "stream",
     "text": [
      "Celsius temperatures: [0, 20, 30, 40, 100]\n",
      "Fahrenheit temperatures: [32.0, 68.0, 86.0, 104.0, 212.0]\n"
     ]
    }
   ],
   "source": [
    "#9. Write a Python program that uses `map()` to convert a list of temperatures from Celsius to Fahrenheit.\n",
    "\n",
    "def celsius_to_fahrenheit(celsius):\n",
    "    return (celsius * 9/5) + 32\n",
    "celsius_temperatures = [0, 20, 30, 40, 100]\n",
    "fahrenheit_temperatures = list(map(celsius_to_fahrenheit, celsius_temperatures))\n",
    "\n",
    "print(\"Celsius temperatures:\", celsius_temperatures)\n",
    "print(\"Fahrenheit temperatures:\", fahrenheit_temperatures)\n",
    "\n",
    "     "
   ]
  },
  {
   "cell_type": "code",
   "execution_count": 14,
   "id": "a6392d52-1efc-47a2-8721-e7bc9f6943fb",
   "metadata": {},
   "outputs": [
    {
     "name": "stdout",
     "output_type": "stream",
     "text": [
      "Original String: Hello, World!\n",
      "String without vowels: Hll, Wrld!\n"
     ]
    }
   ],
   "source": [
    "#10. Create a Python program that uses `filter()` to remove all the vowels from a given string.\n",
    "\n",
    "def remove_vowels(input_string):\n",
    "    # Define a function that returns True for non-vowel characters\n",
    "    def is_not_vowel(char):\n",
    "        return char.lower() not in 'aeiou'\n",
    "\n",
    "    # Use filter to keep only non-vowel characters\n",
    "    filtered_chars = filter(is_not_vowel, input_string)\n",
    "\n",
    "    # Join the filtered characters back into a string\n",
    "    result = ''.join(filtered_chars)\n",
    "\n",
    "    return result\n",
    "\n",
    "# Example usage\n",
    "input_string = \"Hello, World!\"\n",
    "output_string = remove_vowels(input_string)\n",
    "print(\"Original String:\", input_string)\n",
    "print(\"String without vowels:\", output_string)\n"
   ]
  },
  {
   "cell_type": "code",
   "execution_count": 15,
   "id": "f25876e2-a6d1-46c7-9185-0bef639dc2c6",
   "metadata": {},
   "outputs": [
    {
     "name": "stdout",
     "output_type": "stream",
     "text": [
      "[(34587, 163.8), (98762, 284.0), (77226, 108.85), (88112, 84.97)]\n"
     ]
    }
   ],
   "source": [
    "#11) Imagine an accounting routine used in a book shop. It works on a list with sublists, which look like this:Write a Python program, which returns a list with 2-tuples. Each tuple consists of the order number and theproduct of the price per item and the quantity. The product should be increased by 10,- € if the value of the order is smaller than 100,00 €. Write a Python program using lambda and map.\n",
    "\n",
    "orders = [\n",
    "    [34587, \"Learning Python, Mark Lutz\", 4, 40.95],\n",
    "    [98762, \"Programming Python, Mark Lutz\", 5, 56.80],\n",
    "    [77226, \"Head First Python, Paul Barry\", 3, 32.95],\n",
    "    [88112, \"Einführung in Python3, Bernd Klein\", 3, 24.99]\n",
    "]\n",
    "\n",
    "result = list(map(lambda x: (x[0], round(x[2] * x[3] + (10 if x[2] * x[3] < 100 else 0), 2)), orders))\n",
    "\n",
    "print(result)"
   ]
  },
  {
   "cell_type": "code",
   "execution_count": null,
   "id": "cc996f31-23cd-4540-971a-fb7881eeaa00",
   "metadata": {},
   "outputs": [],
   "source": []
  }
 ],
 "metadata": {
  "kernelspec": {
   "display_name": "Python 3 (ipykernel)",
   "language": "python",
   "name": "python3"
  },
  "language_info": {
   "codemirror_mode": {
    "name": "ipython",
    "version": 3
   },
   "file_extension": ".py",
   "mimetype": "text/x-python",
   "name": "python",
   "nbconvert_exporter": "python",
   "pygments_lexer": "ipython3",
   "version": "3.12.7"
  }
 },
 "nbformat": 4,
 "nbformat_minor": 5
}
